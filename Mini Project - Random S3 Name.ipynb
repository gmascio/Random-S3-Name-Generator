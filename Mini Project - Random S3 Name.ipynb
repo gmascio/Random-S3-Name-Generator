{
 "cells": [
  {
   "cell_type": "code",
   "execution_count": 1,
   "id": "cd2136b9",
   "metadata": {},
   "outputs": [
    {
     "name": "stdout",
     "output_type": "stream",
     "text": [
      "How many S3 Buckets do you want to launch?5\n",
      "What department are you in?5\n",
      "How long do you want your S3 name to be?5\n",
      "PHCW5\n",
      "T40J5\n",
      "JSXK5\n",
      "J1CX5\n",
      "5OM95\n"
     ]
    }
   ],
   "source": [
    "##Simple script to create random S3 Bucket names based on user input of preferred length of S3 bucket name, user's department and number of S3 buckets needed.\n",
    "\n",
    "import string\n",
    "import random\n",
    "\n",
    "num_buckets = int(input('How many S3 Buckets do you want to launch?'))\n",
    "dept_name= input('What department are you in?')\n",
    "dept_name_length = len(dept_name)\n",
    "length = int(input('How long do you want your S3 name to be?'))\n",
    "for i in range(1,num_buckets+1):\n",
    "    digits = ''.join(random.choices(string.ascii_uppercase + string.digits, k=(length - dept_name_length)))\n",
    "    random_name = str(digits) + dept_name\n",
    "    print(random_name)\n",
    "    \n"
   ]
  },
  {
   "cell_type": "code",
   "execution_count": 2,
   "id": "e41b0990",
   "metadata": {},
   "outputs": [
    {
     "name": "stdout",
     "output_type": "stream",
     "text": [
      "How many S3 Buckets do you want to launch? 5\n",
      "What department are you in? g\n",
      "How long do you want your S3 name to be? 7\n",
      "Your Random S3 Bucket Names:\n",
      "Z239L4g\n",
      "71N674g\n",
      "GS4PP4g\n",
      "ERFA0Kg\n",
      "Q1K8FGg\n"
     ]
    }
   ],
   "source": [
    "##Function to create random S3 Bucket names based on user input of preferred length of S3 bucket name, user's department and number of S3 buckets needed.\n",
    "import string\n",
    "import random\n",
    "\n",
    "def final_names():\n",
    "    num_buckets = int(input('How many S3 Buckets do you want to launch? '))\n",
    "    dept_name = input('What department are you in? ')\n",
    "    length = int(input('How long do you want your S3 name to be? '))\n",
    "\n",
    "    generated_names = generate_s3_names(num_buckets, dept_name, length)\n",
    "\n",
    "    print(\"Your Random S3 Bucket Names:\")\n",
    "    for name in generated_names:\n",
    "        print(name)\n",
    "\n",
    "def generate_s3_names(num_buckets, dept_name, desired_length):\n",
    "    dept_name_length = len(dept_name)\n",
    "    s3_names = []\n",
    "\n",
    "    for i in range(1, num_buckets + 1):\n",
    "        random_letters = ''.join(random.choices(string.ascii_uppercase + string.digits, k=(desired_length - dept_name_length)))\n",
    "        random_name = random_letters + dept_name\n",
    "        s3_names.append(random_name)\n",
    "\n",
    "    return s3_names\n",
    "     \n",
    "\n",
    "final_names()"
   ]
  },
  {
   "cell_type": "code",
   "execution_count": null,
   "id": "dbeef759",
   "metadata": {},
   "outputs": [],
   "source": []
  }
 ],
 "metadata": {
  "kernelspec": {
   "display_name": "Python 3 (ipykernel)",
   "language": "python",
   "name": "python3"
  },
  "language_info": {
   "codemirror_mode": {
    "name": "ipython",
    "version": 3
   },
   "file_extension": ".py",
   "mimetype": "text/x-python",
   "name": "python",
   "nbconvert_exporter": "python",
   "pygments_lexer": "ipython3",
   "version": "3.11.5"
  }
 },
 "nbformat": 4,
 "nbformat_minor": 5
}
